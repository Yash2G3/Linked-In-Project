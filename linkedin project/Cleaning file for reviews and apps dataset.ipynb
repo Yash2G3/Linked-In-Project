{
 "cells": [
  {
   "cell_type": "code",
   "execution_count": 2,
   "id": "69174d52",
   "metadata": {},
   "outputs": [],
   "source": [
    "import numpy as np\n",
    "import pandas as pd\n",
    "from numpy import nan"
   ]
  },
  {
   "cell_type": "code",
   "execution_count": 22,
   "id": "94ff62b3",
   "metadata": {},
   "outputs": [],
   "source": [
    "df=pd.read_csv('playstore_apps.csv')"
   ]
  },
  {
   "cell_type": "code",
   "execution_count": 18,
   "id": "a72891c0",
   "metadata": {},
   "outputs": [
    {
     "data": {
      "text/html": [
       "<div>\n",
       "<style scoped>\n",
       "    .dataframe tbody tr th:only-of-type {\n",
       "        vertical-align: middle;\n",
       "    }\n",
       "\n",
       "    .dataframe tbody tr th {\n",
       "        vertical-align: top;\n",
       "    }\n",
       "\n",
       "    .dataframe thead th {\n",
       "        text-align: right;\n",
       "    }\n",
       "</style>\n",
       "<table border=\"1\" class=\"dataframe\">\n",
       "  <thead>\n",
       "    <tr style=\"text-align: right;\">\n",
       "      <th></th>\n",
       "      <th>Category</th>\n",
       "      <th>Rating</th>\n",
       "      <th>Reviews</th>\n",
       "      <th>Size</th>\n",
       "      <th>Installs</th>\n",
       "      <th>Type</th>\n",
       "      <th>Price</th>\n",
       "      <th>Content Rating</th>\n",
       "      <th>Genres</th>\n",
       "      <th>Last Updated</th>\n",
       "      <th>Current Ver</th>\n",
       "      <th>Android Ver</th>\n",
       "    </tr>\n",
       "    <tr>\n",
       "      <th>App</th>\n",
       "      <th></th>\n",
       "      <th></th>\n",
       "      <th></th>\n",
       "      <th></th>\n",
       "      <th></th>\n",
       "      <th></th>\n",
       "      <th></th>\n",
       "      <th></th>\n",
       "      <th></th>\n",
       "      <th></th>\n",
       "      <th></th>\n",
       "      <th></th>\n",
       "    </tr>\n",
       "  </thead>\n",
       "  <tbody>\n",
       "    <tr>\n",
       "      <th>Photo Editor &amp; Candy Camera &amp; Grid &amp; ScrapBook</th>\n",
       "      <td>ART_AND_DESIGN</td>\n",
       "      <td>4.1</td>\n",
       "      <td>159.0</td>\n",
       "      <td>19M</td>\n",
       "      <td>10000.0</td>\n",
       "      <td>Free</td>\n",
       "      <td>0.0</td>\n",
       "      <td>Everyone</td>\n",
       "      <td>Art &amp; Design</td>\n",
       "      <td>07-01-2018</td>\n",
       "      <td>1.0.0</td>\n",
       "      <td>4.0.3 and up</td>\n",
       "    </tr>\n",
       "    <tr>\n",
       "      <th>Coloring book moana</th>\n",
       "      <td>ART_AND_DESIGN</td>\n",
       "      <td>3.9</td>\n",
       "      <td>967.0</td>\n",
       "      <td>14M</td>\n",
       "      <td>500000.0</td>\n",
       "      <td>Free</td>\n",
       "      <td>0.0</td>\n",
       "      <td>Everyone</td>\n",
       "      <td>Art &amp; Design;Pretend Play</td>\n",
       "      <td>15-01-2018</td>\n",
       "      <td>2.0.0</td>\n",
       "      <td>4.0.3 and up</td>\n",
       "    </tr>\n",
       "    <tr>\n",
       "      <th>U Launcher Lite – FREE Live Cool Themes, Hide Apps</th>\n",
       "      <td>ART_AND_DESIGN</td>\n",
       "      <td>4.7</td>\n",
       "      <td>87510.0</td>\n",
       "      <td>8.7M</td>\n",
       "      <td>5000000.0</td>\n",
       "      <td>Free</td>\n",
       "      <td>0.0</td>\n",
       "      <td>Everyone</td>\n",
       "      <td>Art &amp; Design</td>\n",
       "      <td>01-08-2018</td>\n",
       "      <td>1.2.4</td>\n",
       "      <td>4.0.3 and up</td>\n",
       "    </tr>\n",
       "    <tr>\n",
       "      <th>Sketch - Draw &amp; Paint</th>\n",
       "      <td>ART_AND_DESIGN</td>\n",
       "      <td>4.5</td>\n",
       "      <td>215644.0</td>\n",
       "      <td>25M</td>\n",
       "      <td>50000000.0</td>\n",
       "      <td>Free</td>\n",
       "      <td>0.0</td>\n",
       "      <td>Teen</td>\n",
       "      <td>Art &amp; Design</td>\n",
       "      <td>08-06-2018</td>\n",
       "      <td>Varies with device</td>\n",
       "      <td>4.2 and up</td>\n",
       "    </tr>\n",
       "    <tr>\n",
       "      <th>Pixel Draw - Number Art Coloring Book</th>\n",
       "      <td>ART_AND_DESIGN</td>\n",
       "      <td>4.3</td>\n",
       "      <td>967.0</td>\n",
       "      <td>2.8M</td>\n",
       "      <td>100000.0</td>\n",
       "      <td>Free</td>\n",
       "      <td>0.0</td>\n",
       "      <td>Everyone</td>\n",
       "      <td>Art &amp; Design;Creativity</td>\n",
       "      <td>20-06-2018</td>\n",
       "      <td>1.1</td>\n",
       "      <td>4.4 and up</td>\n",
       "    </tr>\n",
       "  </tbody>\n",
       "</table>\n",
       "</div>"
      ],
      "text/plain": [
       "                                                          Category  Rating  \\\n",
       "App                                                                          \n",
       "Photo Editor & Candy Camera & Grid & ScrapBook      ART_AND_DESIGN     4.1   \n",
       "Coloring book moana                                 ART_AND_DESIGN     3.9   \n",
       "U Launcher Lite – FREE Live Cool Themes, Hide Apps  ART_AND_DESIGN     4.7   \n",
       "Sketch - Draw & Paint                               ART_AND_DESIGN     4.5   \n",
       "Pixel Draw - Number Art Coloring Book               ART_AND_DESIGN     4.3   \n",
       "\n",
       "                                                     Reviews  Size  \\\n",
       "App                                                                  \n",
       "Photo Editor & Candy Camera & Grid & ScrapBook         159.0   19M   \n",
       "Coloring book moana                                    967.0   14M   \n",
       "U Launcher Lite – FREE Live Cool Themes, Hide Apps   87510.0  8.7M   \n",
       "Sketch - Draw & Paint                               215644.0   25M   \n",
       "Pixel Draw - Number Art Coloring Book                  967.0  2.8M   \n",
       "\n",
       "                                                      Installs  Type  Price  \\\n",
       "App                                                                           \n",
       "Photo Editor & Candy Camera & Grid & ScrapBook         10000.0  Free    0.0   \n",
       "Coloring book moana                                   500000.0  Free    0.0   \n",
       "U Launcher Lite – FREE Live Cool Themes, Hide Apps   5000000.0  Free    0.0   \n",
       "Sketch - Draw & Paint                               50000000.0  Free    0.0   \n",
       "Pixel Draw - Number Art Coloring Book                 100000.0  Free    0.0   \n",
       "\n",
       "                                                   Content Rating  \\\n",
       "App                                                                 \n",
       "Photo Editor & Candy Camera & Grid & ScrapBook           Everyone   \n",
       "Coloring book moana                                      Everyone   \n",
       "U Launcher Lite – FREE Live Cool Themes, Hide Apps       Everyone   \n",
       "Sketch - Draw & Paint                                        Teen   \n",
       "Pixel Draw - Number Art Coloring Book                    Everyone   \n",
       "\n",
       "                                                                       Genres  \\\n",
       "App                                                                             \n",
       "Photo Editor & Candy Camera & Grid & ScrapBook                   Art & Design   \n",
       "Coloring book moana                                 Art & Design;Pretend Play   \n",
       "U Launcher Lite – FREE Live Cool Themes, Hide Apps               Art & Design   \n",
       "Sketch - Draw & Paint                                            Art & Design   \n",
       "Pixel Draw - Number Art Coloring Book                 Art & Design;Creativity   \n",
       "\n",
       "                                                   Last Updated  \\\n",
       "App                                                               \n",
       "Photo Editor & Candy Camera & Grid & ScrapBook       07-01-2018   \n",
       "Coloring book moana                                  15-01-2018   \n",
       "U Launcher Lite – FREE Live Cool Themes, Hide Apps   01-08-2018   \n",
       "Sketch - Draw & Paint                                08-06-2018   \n",
       "Pixel Draw - Number Art Coloring Book                20-06-2018   \n",
       "\n",
       "                                                           Current Ver  \\\n",
       "App                                                                      \n",
       "Photo Editor & Candy Camera & Grid & ScrapBook                   1.0.0   \n",
       "Coloring book moana                                              2.0.0   \n",
       "U Launcher Lite – FREE Live Cool Themes, Hide Apps               1.2.4   \n",
       "Sketch - Draw & Paint                               Varies with device   \n",
       "Pixel Draw - Number Art Coloring Book                              1.1   \n",
       "\n",
       "                                                     Android Ver  \n",
       "App                                                               \n",
       "Photo Editor & Candy Camera & Grid & ScrapBook      4.0.3 and up  \n",
       "Coloring book moana                                 4.0.3 and up  \n",
       "U Launcher Lite – FREE Live Cool Themes, Hide Apps  4.0.3 and up  \n",
       "Sketch - Draw & Paint                                 4.2 and up  \n",
       "Pixel Draw - Number Art Coloring Book                 4.4 and up  "
      ]
     },
     "execution_count": 18,
     "metadata": {},
     "output_type": "execute_result"
    }
   ],
   "source": [
    "df.head()"
   ]
  },
  {
   "cell_type": "code",
   "execution_count": 5,
   "id": "22b5530b",
   "metadata": {},
   "outputs": [
    {
     "name": "stdout",
     "output_type": "stream",
     "text": [
      "<class 'pandas.core.frame.DataFrame'>\n",
      "RangeIndex: 10841 entries, 0 to 10840\n",
      "Data columns (total 13 columns):\n",
      " #   Column          Non-Null Count  Dtype  \n",
      "---  ------          --------------  -----  \n",
      " 0   App             10841 non-null  object \n",
      " 1   Category        10841 non-null  object \n",
      " 2   Rating          9367 non-null   float64\n",
      " 3   Reviews         10840 non-null  float64\n",
      " 4   Size            10841 non-null  object \n",
      " 5   Installs        10840 non-null  float64\n",
      " 6   Type            10840 non-null  object \n",
      " 7   Price           10840 non-null  float64\n",
      " 8   Content Rating  10840 non-null  object \n",
      " 9   Genres          10841 non-null  object \n",
      " 10  Last Updated    10840 non-null  object \n",
      " 11  Current Ver     10833 non-null  object \n",
      " 12  Android Ver     10838 non-null  object \n",
      "dtypes: float64(4), object(9)\n",
      "memory usage: 1.1+ MB\n"
     ]
    }
   ],
   "source": [
    "df.info()"
   ]
  },
  {
   "cell_type": "code",
   "execution_count": 6,
   "id": "f5503896",
   "metadata": {},
   "outputs": [
    {
     "data": {
      "text/plain": [
       "True"
      ]
     },
     "execution_count": 6,
     "metadata": {},
     "output_type": "execute_result"
    }
   ],
   "source": [
    "df['App'].isnull().any()\n",
    "df['Category'].isnull().any()\n",
    "df['Reviews'].isnull().any()\n",
    "df['Size'].isnull().any()\n",
    "df['Installs'].isnull().any()"
   ]
  },
  {
   "cell_type": "code",
   "execution_count": 7,
   "id": "41582290",
   "metadata": {},
   "outputs": [
    {
     "data": {
      "text/plain": [
       "'App'"
      ]
     },
     "execution_count": 7,
     "metadata": {},
     "output_type": "execute_result"
    }
   ],
   "source": [
    "arr=df.columns.values\n",
    "arr[0]"
   ]
  },
  {
   "cell_type": "code",
   "execution_count": 9,
   "id": "8eee1f41",
   "metadata": {},
   "outputs": [
    {
     "name": "stdout",
     "output_type": "stream",
     "text": [
      "<class 'pandas.core.frame.DataFrame'>\n",
      "RangeIndex: 10841 entries, 0 to 10840\n",
      "Data columns (total 13 columns):\n",
      " #   Column          Non-Null Count  Dtype  \n",
      "---  ------          --------------  -----  \n",
      " 0   App             10841 non-null  object \n",
      " 1   Category        10841 non-null  object \n",
      " 2   Rating          9367 non-null   float64\n",
      " 3   Reviews         10840 non-null  float64\n",
      " 4   Size            10841 non-null  object \n",
      " 5   Installs        10840 non-null  float64\n",
      " 6   Type            10840 non-null  object \n",
      " 7   Price           10840 non-null  float64\n",
      " 8   Content Rating  10840 non-null  object \n",
      " 9   Genres          10841 non-null  object \n",
      " 10  Last Updated    10840 non-null  object \n",
      " 11  Current Ver     10833 non-null  object \n",
      " 12  Android Ver     10838 non-null  object \n",
      "dtypes: float64(4), object(9)\n",
      "memory usage: 1.1+ MB\n"
     ]
    }
   ],
   "source": [
    "df.info()"
   ]
  },
  {
   "cell_type": "code",
   "execution_count": 10,
   "id": "0aab9812",
   "metadata": {},
   "outputs": [
    {
     "data": {
      "text/plain": [
       "['Rating',\n",
       " 'Reviews',\n",
       " 'Installs',\n",
       " 'Type',\n",
       " 'Price',\n",
       " 'Content Rating',\n",
       " 'Last Updated',\n",
       " 'Current Ver',\n",
       " 'Android Ver']"
      ]
     },
     "execution_count": 10,
     "metadata": {},
     "output_type": "execute_result"
    }
   ],
   "source": [
    "# checking which columns have null values in the given data frame\n",
    "\n",
    "df.columns[df.isna().any()].tolist()"
   ]
  },
  {
   "cell_type": "code",
   "execution_count": 11,
   "id": "b3e48cf7",
   "metadata": {},
   "outputs": [
    {
     "data": {
      "text/plain": [
       "App               False\n",
       "Category          False\n",
       "Rating             True\n",
       "Reviews            True\n",
       "Size              False\n",
       "Installs           True\n",
       "Type               True\n",
       "Price              True\n",
       "Content Rating     True\n",
       "Genres            False\n",
       "Last Updated       True\n",
       "Current Ver        True\n",
       "Android Ver        True\n",
       "dtype: bool"
      ]
     },
     "execution_count": 11,
     "metadata": {},
     "output_type": "execute_result"
    }
   ],
   "source": [
    "df.isna().any()"
   ]
  },
  {
   "cell_type": "code",
   "execution_count": 12,
   "id": "726f5ad6",
   "metadata": {},
   "outputs": [
    {
     "data": {
      "text/plain": [
       "App                  0\n",
       "Category             0\n",
       "Rating            1474\n",
       "Reviews              1\n",
       "Size                 0\n",
       "Installs             1\n",
       "Type                 1\n",
       "Price                1\n",
       "Content Rating       1\n",
       "Genres               0\n",
       "Last Updated         1\n",
       "Current Ver          8\n",
       "Android Ver          3\n",
       "dtype: int64"
      ]
     },
     "execution_count": 12,
     "metadata": {},
     "output_type": "execute_result"
    }
   ],
   "source": [
    "df.isna().sum()"
   ]
  },
  {
   "cell_type": "code",
   "execution_count": 13,
   "id": "b8aae8d4",
   "metadata": {},
   "outputs": [
    {
     "data": {
      "text/html": [
       "<div>\n",
       "<style scoped>\n",
       "    .dataframe tbody tr th:only-of-type {\n",
       "        vertical-align: middle;\n",
       "    }\n",
       "\n",
       "    .dataframe tbody tr th {\n",
       "        vertical-align: top;\n",
       "    }\n",
       "\n",
       "    .dataframe thead th {\n",
       "        text-align: right;\n",
       "    }\n",
       "</style>\n",
       "<table border=\"1\" class=\"dataframe\">\n",
       "  <thead>\n",
       "    <tr style=\"text-align: right;\">\n",
       "      <th></th>\n",
       "      <th>App</th>\n",
       "      <th>Category</th>\n",
       "      <th>Rating</th>\n",
       "      <th>Reviews</th>\n",
       "      <th>Size</th>\n",
       "      <th>Installs</th>\n",
       "      <th>Type</th>\n",
       "      <th>Price</th>\n",
       "      <th>Content Rating</th>\n",
       "      <th>Genres</th>\n",
       "      <th>Last Updated</th>\n",
       "      <th>Current Ver</th>\n",
       "      <th>Android Ver</th>\n",
       "    </tr>\n",
       "  </thead>\n",
       "  <tbody>\n",
       "    <tr>\n",
       "      <th>10472</th>\n",
       "      <td>Life Made WI-Fi Touchscreen Photo Frame</td>\n",
       "      <td>1.9</td>\n",
       "      <td>19.0</td>\n",
       "      <td>NaN</td>\n",
       "      <td>1,000+</td>\n",
       "      <td>NaN</td>\n",
       "      <td>0</td>\n",
       "      <td>NaN</td>\n",
       "      <td>NaN</td>\n",
       "      <td>February 11, 2018</td>\n",
       "      <td>NaN</td>\n",
       "      <td>4.0 and up</td>\n",
       "      <td>NaN</td>\n",
       "    </tr>\n",
       "  </tbody>\n",
       "</table>\n",
       "</div>"
      ],
      "text/plain": [
       "                                           App Category  Rating  Reviews  \\\n",
       "10472  Life Made WI-Fi Touchscreen Photo Frame      1.9    19.0      NaN   \n",
       "\n",
       "         Size  Installs Type  Price Content Rating             Genres  \\\n",
       "10472  1,000+       NaN    0    NaN            NaN  February 11, 2018   \n",
       "\n",
       "      Last Updated Current Ver Android Ver  \n",
       "10472          NaN  4.0 and up         NaN  "
      ]
     },
     "execution_count": 13,
     "metadata": {},
     "output_type": "execute_result"
    }
   ],
   "source": [
    "# to view number of null values in each column\n",
    "df[df['Rating'].isna()]\n",
    "df[df['Reviews'].isna()]\n",
    "df[df['Installs'].isna()]"
   ]
  },
  {
   "cell_type": "code",
   "execution_count": 10,
   "id": "b00f6125",
   "metadata": {},
   "outputs": [
    {
     "data": {
      "text/plain": [
       "array(['Photo Editor & Candy Camera & Grid & ScrapBook',\n",
       "       'Coloring book moana',\n",
       "       'U Launcher Lite – FREE Live Cool Themes, Hide Apps', ...,\n",
       "       'Parkinson Exercices FR', 'The SCP Foundation DB fr nn5n',\n",
       "       'iHoroscope - 2018 Daily Horoscope & Astrology'], dtype=object)"
      ]
     },
     "execution_count": 10,
     "metadata": {},
     "output_type": "execute_result"
    }
   ],
   "source": [
    "df['App'].unique()"
   ]
  },
  {
   "cell_type": "code",
   "execution_count": 11,
   "id": "d3fb8867",
   "metadata": {},
   "outputs": [
    {
     "name": "stdout",
     "output_type": "stream",
     "text": [
      "<class 'pandas.core.frame.DataFrame'>\n",
      "Int64Index: 10358 entries, 0 to 10840\n",
      "Data columns (total 13 columns):\n",
      " #   Column          Non-Null Count  Dtype  \n",
      "---  ------          --------------  -----  \n",
      " 0   App             10358 non-null  object \n",
      " 1   Category        10358 non-null  object \n",
      " 2   Rating          8893 non-null   float64\n",
      " 3   Reviews         10357 non-null  float64\n",
      " 4   Size            10358 non-null  object \n",
      " 5   Installs        10357 non-null  float64\n",
      " 6   Type            10357 non-null  object \n",
      " 7   Price           10357 non-null  float64\n",
      " 8   Content Rating  10357 non-null  object \n",
      " 9   Genres          10358 non-null  object \n",
      " 10  Last Updated    10357 non-null  object \n",
      " 11  Current Ver     10350 non-null  object \n",
      " 12  Android Ver     10355 non-null  object \n",
      "dtypes: float64(4), object(9)\n",
      "memory usage: 1.1+ MB\n"
     ]
    }
   ],
   "source": [
    "df.drop_duplicates(inplace=True)\n",
    "df.info()"
   ]
  },
  {
   "cell_type": "code",
   "execution_count": 12,
   "id": "ba53b122",
   "metadata": {},
   "outputs": [
    {
     "data": {
      "text/html": [
       "<div>\n",
       "<style scoped>\n",
       "    .dataframe tbody tr th:only-of-type {\n",
       "        vertical-align: middle;\n",
       "    }\n",
       "\n",
       "    .dataframe tbody tr th {\n",
       "        vertical-align: top;\n",
       "    }\n",
       "\n",
       "    .dataframe thead th {\n",
       "        text-align: right;\n",
       "    }\n",
       "</style>\n",
       "<table border=\"1\" class=\"dataframe\">\n",
       "  <thead>\n",
       "    <tr style=\"text-align: right;\">\n",
       "      <th></th>\n",
       "      <th>App</th>\n",
       "      <th>Category</th>\n",
       "      <th>Rating</th>\n",
       "      <th>Reviews</th>\n",
       "      <th>Size</th>\n",
       "      <th>Installs</th>\n",
       "      <th>Type</th>\n",
       "      <th>Price</th>\n",
       "      <th>Content Rating</th>\n",
       "      <th>Genres</th>\n",
       "      <th>Last Updated</th>\n",
       "      <th>Current Ver</th>\n",
       "      <th>Android Ver</th>\n",
       "    </tr>\n",
       "  </thead>\n",
       "  <tbody>\n",
       "    <tr>\n",
       "      <th>3234</th>\n",
       "      <td>Google</td>\n",
       "      <td>TOOLS</td>\n",
       "      <td>4.4</td>\n",
       "      <td>8033493.0</td>\n",
       "      <td>Varies with device</td>\n",
       "      <td>1.000000e+09</td>\n",
       "      <td>Free</td>\n",
       "      <td>0.0</td>\n",
       "      <td>Everyone</td>\n",
       "      <td>Tools</td>\n",
       "      <td>03-08-2018</td>\n",
       "      <td>Varies with device</td>\n",
       "      <td>Varies with device</td>\n",
       "    </tr>\n",
       "    <tr>\n",
       "      <th>4150</th>\n",
       "      <td>Google</td>\n",
       "      <td>TOOLS</td>\n",
       "      <td>4.4</td>\n",
       "      <td>8021623.0</td>\n",
       "      <td>Varies with device</td>\n",
       "      <td>1.000000e+09</td>\n",
       "      <td>Free</td>\n",
       "      <td>0.0</td>\n",
       "      <td>Everyone</td>\n",
       "      <td>Tools</td>\n",
       "      <td>03-08-2018</td>\n",
       "      <td>Varies with device</td>\n",
       "      <td>Varies with device</td>\n",
       "    </tr>\n",
       "  </tbody>\n",
       "</table>\n",
       "</div>"
      ],
      "text/plain": [
       "         App Category  Rating    Reviews                Size      Installs  \\\n",
       "3234  Google    TOOLS     4.4  8033493.0  Varies with device  1.000000e+09   \n",
       "4150  Google    TOOLS     4.4  8021623.0  Varies with device  1.000000e+09   \n",
       "\n",
       "      Type  Price Content Rating Genres Last Updated         Current Ver  \\\n",
       "3234  Free    0.0       Everyone  Tools   03-08-2018  Varies with device   \n",
       "4150  Free    0.0       Everyone  Tools   03-08-2018  Varies with device   \n",
       "\n",
       "             Android Ver  \n",
       "3234  Varies with device  \n",
       "4150  Varies with device  "
      ]
     },
     "execution_count": 12,
     "metadata": {},
     "output_type": "execute_result"
    }
   ],
   "source": [
    "df[df['App']=='Google']"
   ]
  },
  {
   "cell_type": "code",
   "execution_count": 13,
   "id": "8df3dc4b",
   "metadata": {},
   "outputs": [
    {
     "name": "stdout",
     "output_type": "stream",
     "text": [
      "['ART_AND_DESIGN' 'AUTO_AND_VEHICLES' 'BEAUTY' 'BOOKS_AND_REFERENCE'\n",
      " 'BUSINESS' 'COMICS' 'COMMUNICATION' 'DATING' 'EDUCATION' 'ENTERTAINMENT'\n",
      " 'EVENTS' 'FINANCE' 'FOOD_AND_DRINK' 'HEALTH_AND_FITNESS' 'HOUSE_AND_HOME'\n",
      " 'LIBRARIES_AND_DEMO' 'LIFESTYLE' 'GAME' 'FAMILY' 'MEDICAL' 'SOCIAL'\n",
      " 'SHOPPING' 'PHOTOGRAPHY' 'SPORTS' 'TRAVEL_AND_LOCAL' 'TOOLS'\n",
      " 'PERSONALIZATION' 'PRODUCTIVITY' 'PARENTING' 'WEATHER' 'VIDEO_PLAYERS'\n",
      " 'NEWS_AND_MAGAZINES' 'MAPS_AND_NAVIGATION' '1.9']\n"
     ]
    }
   ],
   "source": [
    "print(df['Category'].unique())"
   ]
  },
  {
   "cell_type": "code",
   "execution_count": 14,
   "id": "d94498a6",
   "metadata": {},
   "outputs": [
    {
     "data": {
      "text/html": [
       "<div>\n",
       "<style scoped>\n",
       "    .dataframe tbody tr th:only-of-type {\n",
       "        vertical-align: middle;\n",
       "    }\n",
       "\n",
       "    .dataframe tbody tr th {\n",
       "        vertical-align: top;\n",
       "    }\n",
       "\n",
       "    .dataframe thead th {\n",
       "        text-align: right;\n",
       "    }\n",
       "</style>\n",
       "<table border=\"1\" class=\"dataframe\">\n",
       "  <thead>\n",
       "    <tr style=\"text-align: right;\">\n",
       "      <th></th>\n",
       "      <th>App</th>\n",
       "      <th>Category</th>\n",
       "      <th>Rating</th>\n",
       "      <th>Reviews</th>\n",
       "      <th>Size</th>\n",
       "      <th>Installs</th>\n",
       "      <th>Type</th>\n",
       "      <th>Price</th>\n",
       "      <th>Content Rating</th>\n",
       "      <th>Genres</th>\n",
       "      <th>Last Updated</th>\n",
       "      <th>Current Ver</th>\n",
       "      <th>Android Ver</th>\n",
       "    </tr>\n",
       "  </thead>\n",
       "  <tbody>\n",
       "  </tbody>\n",
       "</table>\n",
       "</div>"
      ],
      "text/plain": [
       "Empty DataFrame\n",
       "Columns: [App, Category, Rating, Reviews, Size, Installs, Type, Price, Content Rating, Genres, Last Updated, Current Ver, Android Ver]\n",
       "Index: []"
      ]
     },
     "execution_count": 14,
     "metadata": {},
     "output_type": "execute_result"
    }
   ],
   "source": [
    "df[df[\"Category\"]==1.9]"
   ]
  },
  {
   "cell_type": "code",
   "execution_count": 19,
   "id": "58f08b20",
   "metadata": {},
   "outputs": [],
   "source": [
    "dropping irrelevant row\n",
    "df.drop(\"Life Made WI-Fi Touchscreen Photo Frame\",inplace=True)\n"
   ]
  },
  {
   "cell_type": "markdown",
   "id": "5c54a680",
   "metadata": {},
   "source": [
    "Below I have check which column contain values not suiting them"
   ]
  },
  {
   "cell_type": "code",
   "execution_count": 26,
   "id": "41c78038",
   "metadata": {},
   "outputs": [
    {
     "name": "stdout",
     "output_type": "stream",
     "text": [
      "['ART_AND_DESIGN' 'AUTO_AND_VEHICLES' 'BEAUTY' 'BOOKS_AND_REFERENCE'\n",
      " 'BUSINESS' 'COMICS' 'COMMUNICATION' 'DATING' 'EDUCATION' 'ENTERTAINMENT'\n",
      " 'EVENTS' 'FINANCE' 'FOOD_AND_DRINK' 'HEALTH_AND_FITNESS' 'HOUSE_AND_HOME'\n",
      " 'LIBRARIES_AND_DEMO' 'LIFESTYLE' 'GAME' 'FAMILY' 'MEDICAL' 'SOCIAL'\n",
      " 'SHOPPING' 'PHOTOGRAPHY' 'SPORTS' 'TRAVEL_AND_LOCAL' 'TOOLS'\n",
      " 'PERSONALIZATION' 'PRODUCTIVITY' 'PARENTING' 'WEATHER' 'VIDEO_PLAYERS'\n",
      " 'NEWS_AND_MAGAZINES' 'MAPS_AND_NAVIGATION' '1.9']\n"
     ]
    }
   ],
   "source": [
    "print(df['Category'].unique())"
   ]
  },
  {
   "cell_type": "code",
   "execution_count": 27,
   "id": "04e33787",
   "metadata": {},
   "outputs": [
    {
     "name": "stdout",
     "output_type": "stream",
     "text": [
      "['4.0.3 and up' '4.2 and up' '4.4 and up' '2.3 and up' '3.0 and up'\n",
      " '4.1 and up' '4.0 and up' '2.3.3 and up' 'Varies with device'\n",
      " '2.2 and up' '5.0 and up' '6.0 and up' '1.6 and up' '1.5 and up'\n",
      " '2.1 and up' '7.0 and up' '5.1 and up' '4.3 and up' '4.0.3 - 7.1.1'\n",
      " '2.0 and up' '3.2 and up' '4.4W and up' '7.1 and up' '7.0 - 7.1.1'\n",
      " '8.0 and up' '5.0 - 8.0' '3.1 and up' '2.0.1 and up' '4.1 - 7.1.1' nan\n",
      " '5.0 - 6.0' '1.0 and up' '2.2 - 7.1.1' '5.0 - 7.1.1']\n"
     ]
    }
   ],
   "source": [
    "print(df['Android Ver'].unique())"
   ]
  },
  {
   "cell_type": "code",
   "execution_count": 28,
   "id": "d54a95cb",
   "metadata": {},
   "outputs": [
    {
     "data": {
      "text/plain": [
       "dtype('float64')"
      ]
     },
     "execution_count": 28,
     "metadata": {},
     "output_type": "execute_result"
    }
   ],
   "source": [
    "df.dtypes['Installs']"
   ]
  },
  {
   "cell_type": "code",
   "execution_count": 23,
   "id": "264a94a8",
   "metadata": {},
   "outputs": [
    {
     "data": {
      "text/html": [
       "<div>\n",
       "<style scoped>\n",
       "    .dataframe tbody tr th:only-of-type {\n",
       "        vertical-align: middle;\n",
       "    }\n",
       "\n",
       "    .dataframe tbody tr th {\n",
       "        vertical-align: top;\n",
       "    }\n",
       "\n",
       "    .dataframe thead th {\n",
       "        text-align: right;\n",
       "    }\n",
       "</style>\n",
       "<table border=\"1\" class=\"dataframe\">\n",
       "  <thead>\n",
       "    <tr style=\"text-align: right;\">\n",
       "      <th></th>\n",
       "      <th>Category</th>\n",
       "      <th>Rating</th>\n",
       "      <th>Reviews</th>\n",
       "      <th>Size</th>\n",
       "      <th>Installs</th>\n",
       "      <th>Type</th>\n",
       "      <th>Price</th>\n",
       "      <th>Content Rating</th>\n",
       "      <th>Genres</th>\n",
       "      <th>Last Updated</th>\n",
       "      <th>Current Ver</th>\n",
       "      <th>Android Ver</th>\n",
       "    </tr>\n",
       "    <tr>\n",
       "      <th>App</th>\n",
       "      <th></th>\n",
       "      <th></th>\n",
       "      <th></th>\n",
       "      <th></th>\n",
       "      <th></th>\n",
       "      <th></th>\n",
       "      <th></th>\n",
       "      <th></th>\n",
       "      <th></th>\n",
       "      <th></th>\n",
       "      <th></th>\n",
       "      <th></th>\n",
       "    </tr>\n",
       "  </thead>\n",
       "  <tbody>\n",
       "    <tr>\n",
       "      <th>Facebook</th>\n",
       "      <td>SOCIAL</td>\n",
       "      <td>4.1</td>\n",
       "      <td>78158306.0</td>\n",
       "      <td>Varies with device</td>\n",
       "      <td>1.000000e+09</td>\n",
       "      <td>Free</td>\n",
       "      <td>0.00</td>\n",
       "      <td>Teen</td>\n",
       "      <td>Social</td>\n",
       "      <td>03-08-2018</td>\n",
       "      <td>Varies with device</td>\n",
       "      <td>Varies with device</td>\n",
       "    </tr>\n",
       "    <tr>\n",
       "      <th>Facebook</th>\n",
       "      <td>SOCIAL</td>\n",
       "      <td>4.1</td>\n",
       "      <td>78128208.0</td>\n",
       "      <td>Varies with device</td>\n",
       "      <td>1.000000e+09</td>\n",
       "      <td>Free</td>\n",
       "      <td>0.00</td>\n",
       "      <td>Teen</td>\n",
       "      <td>Social</td>\n",
       "      <td>03-08-2018</td>\n",
       "      <td>Varies with device</td>\n",
       "      <td>Varies with device</td>\n",
       "    </tr>\n",
       "    <tr>\n",
       "      <th>WhatsApp Messenger</th>\n",
       "      <td>COMMUNICATION</td>\n",
       "      <td>4.4</td>\n",
       "      <td>69119316.0</td>\n",
       "      <td>Varies with device</td>\n",
       "      <td>1.000000e+09</td>\n",
       "      <td>Free</td>\n",
       "      <td>0.00</td>\n",
       "      <td>Everyone</td>\n",
       "      <td>Communication</td>\n",
       "      <td>03-08-2018</td>\n",
       "      <td>Varies with device</td>\n",
       "      <td>Varies with device</td>\n",
       "    </tr>\n",
       "    <tr>\n",
       "      <th>WhatsApp Messenger</th>\n",
       "      <td>COMMUNICATION</td>\n",
       "      <td>4.4</td>\n",
       "      <td>69119316.0</td>\n",
       "      <td>Varies with device</td>\n",
       "      <td>1.000000e+09</td>\n",
       "      <td>Free</td>\n",
       "      <td>0.00</td>\n",
       "      <td>Everyone</td>\n",
       "      <td>Communication</td>\n",
       "      <td>03-08-2018</td>\n",
       "      <td>Varies with device</td>\n",
       "      <td>Varies with device</td>\n",
       "    </tr>\n",
       "    <tr>\n",
       "      <th>WhatsApp Messenger</th>\n",
       "      <td>COMMUNICATION</td>\n",
       "      <td>4.4</td>\n",
       "      <td>69109672.0</td>\n",
       "      <td>Varies with device</td>\n",
       "      <td>1.000000e+09</td>\n",
       "      <td>Free</td>\n",
       "      <td>0.00</td>\n",
       "      <td>Everyone</td>\n",
       "      <td>Communication</td>\n",
       "      <td>03-08-2018</td>\n",
       "      <td>Varies with device</td>\n",
       "      <td>Varies with device</td>\n",
       "    </tr>\n",
       "    <tr>\n",
       "      <th>...</th>\n",
       "      <td>...</td>\n",
       "      <td>...</td>\n",
       "      <td>...</td>\n",
       "      <td>...</td>\n",
       "      <td>...</td>\n",
       "      <td>...</td>\n",
       "      <td>...</td>\n",
       "      <td>...</td>\n",
       "      <td>...</td>\n",
       "      <td>...</td>\n",
       "      <td>...</td>\n",
       "      <td>...</td>\n",
       "    </tr>\n",
       "    <tr>\n",
       "      <th>eP Finder</th>\n",
       "      <td>AUTO_AND_VEHICLES</td>\n",
       "      <td>NaN</td>\n",
       "      <td>0.0</td>\n",
       "      <td>6.3M</td>\n",
       "      <td>1.000000e+01</td>\n",
       "      <td>Free</td>\n",
       "      <td>0.00</td>\n",
       "      <td>Everyone</td>\n",
       "      <td>Auto &amp; Vehicles</td>\n",
       "      <td>21-06-2018</td>\n",
       "      <td>1</td>\n",
       "      <td>4.4 and up</td>\n",
       "    </tr>\n",
       "    <tr>\n",
       "      <th>HDWallpaper DK</th>\n",
       "      <td>PERSONALIZATION</td>\n",
       "      <td>NaN</td>\n",
       "      <td>0.0</td>\n",
       "      <td>6.6M</td>\n",
       "      <td>1.000000e+01</td>\n",
       "      <td>Free</td>\n",
       "      <td>0.00</td>\n",
       "      <td>Teen</td>\n",
       "      <td>Personalization</td>\n",
       "      <td>05-10-2017</td>\n",
       "      <td>1</td>\n",
       "      <td>4.0 and up</td>\n",
       "    </tr>\n",
       "    <tr>\n",
       "      <th>Bi-Tank Ads Free</th>\n",
       "      <td>GAME</td>\n",
       "      <td>NaN</td>\n",
       "      <td>0.0</td>\n",
       "      <td>Varies with device</td>\n",
       "      <td>1.000000e+00</td>\n",
       "      <td>Paid</td>\n",
       "      <td>0.99</td>\n",
       "      <td>Everyone</td>\n",
       "      <td>Arcade</td>\n",
       "      <td>31-07-2017</td>\n",
       "      <td>1.1</td>\n",
       "      <td>4.1 and up</td>\n",
       "    </tr>\n",
       "    <tr>\n",
       "      <th>DK Primrose for KLWP</th>\n",
       "      <td>PERSONALIZATION</td>\n",
       "      <td>NaN</td>\n",
       "      <td>0.0</td>\n",
       "      <td>16M</td>\n",
       "      <td>1.000000e+00</td>\n",
       "      <td>Paid</td>\n",
       "      <td>0.99</td>\n",
       "      <td>Everyone</td>\n",
       "      <td>Personalization</td>\n",
       "      <td>02-12-2017</td>\n",
       "      <td>v2017.Dec.01.19</td>\n",
       "      <td>4.4 and up</td>\n",
       "    </tr>\n",
       "    <tr>\n",
       "      <th>Apps for SportsB?tting.ag - Bitcoin Welcome here!</th>\n",
       "      <td>SPORTS</td>\n",
       "      <td>NaN</td>\n",
       "      <td>0.0</td>\n",
       "      <td>10.0M</td>\n",
       "      <td>1.000000e+03</td>\n",
       "      <td>Free</td>\n",
       "      <td>0.00</td>\n",
       "      <td>Everyone</td>\n",
       "      <td>Sports</td>\n",
       "      <td>11-12-2017</td>\n",
       "      <td>1</td>\n",
       "      <td>4.0 and up</td>\n",
       "    </tr>\n",
       "  </tbody>\n",
       "</table>\n",
       "<p>10840 rows × 12 columns</p>\n",
       "</div>"
      ],
      "text/plain": [
       "                                                            Category  Rating  \\\n",
       "App                                                                            \n",
       "Facebook                                                      SOCIAL     4.1   \n",
       "Facebook                                                      SOCIAL     4.1   \n",
       "WhatsApp Messenger                                     COMMUNICATION     4.4   \n",
       "WhatsApp Messenger                                     COMMUNICATION     4.4   \n",
       "WhatsApp Messenger                                     COMMUNICATION     4.4   \n",
       "...                                                              ...     ...   \n",
       "eP Finder                                          AUTO_AND_VEHICLES     NaN   \n",
       "HDWallpaper DK                                       PERSONALIZATION     NaN   \n",
       "Bi-Tank Ads Free                                                GAME     NaN   \n",
       "DK Primrose for KLWP                                 PERSONALIZATION     NaN   \n",
       "Apps for SportsB?tting.ag - Bitcoin Welcome here!             SPORTS     NaN   \n",
       "\n",
       "                                                      Reviews  \\\n",
       "App                                                             \n",
       "Facebook                                           78158306.0   \n",
       "Facebook                                           78128208.0   \n",
       "WhatsApp Messenger                                 69119316.0   \n",
       "WhatsApp Messenger                                 69119316.0   \n",
       "WhatsApp Messenger                                 69109672.0   \n",
       "...                                                       ...   \n",
       "eP Finder                                                 0.0   \n",
       "HDWallpaper DK                                            0.0   \n",
       "Bi-Tank Ads Free                                          0.0   \n",
       "DK Primrose for KLWP                                      0.0   \n",
       "Apps for SportsB?tting.ag - Bitcoin Welcome here!         0.0   \n",
       "\n",
       "                                                                 Size  \\\n",
       "App                                                                     \n",
       "Facebook                                           Varies with device   \n",
       "Facebook                                           Varies with device   \n",
       "WhatsApp Messenger                                 Varies with device   \n",
       "WhatsApp Messenger                                 Varies with device   \n",
       "WhatsApp Messenger                                 Varies with device   \n",
       "...                                                               ...   \n",
       "eP Finder                                                        6.3M   \n",
       "HDWallpaper DK                                                   6.6M   \n",
       "Bi-Tank Ads Free                                   Varies with device   \n",
       "DK Primrose for KLWP                                              16M   \n",
       "Apps for SportsB?tting.ag - Bitcoin Welcome here!               10.0M   \n",
       "\n",
       "                                                       Installs  Type  Price  \\\n",
       "App                                                                            \n",
       "Facebook                                           1.000000e+09  Free   0.00   \n",
       "Facebook                                           1.000000e+09  Free   0.00   \n",
       "WhatsApp Messenger                                 1.000000e+09  Free   0.00   \n",
       "WhatsApp Messenger                                 1.000000e+09  Free   0.00   \n",
       "WhatsApp Messenger                                 1.000000e+09  Free   0.00   \n",
       "...                                                         ...   ...    ...   \n",
       "eP Finder                                          1.000000e+01  Free   0.00   \n",
       "HDWallpaper DK                                     1.000000e+01  Free   0.00   \n",
       "Bi-Tank Ads Free                                   1.000000e+00  Paid   0.99   \n",
       "DK Primrose for KLWP                               1.000000e+00  Paid   0.99   \n",
       "Apps for SportsB?tting.ag - Bitcoin Welcome here!  1.000000e+03  Free   0.00   \n",
       "\n",
       "                                                  Content Rating  \\\n",
       "App                                                                \n",
       "Facebook                                                    Teen   \n",
       "Facebook                                                    Teen   \n",
       "WhatsApp Messenger                                      Everyone   \n",
       "WhatsApp Messenger                                      Everyone   \n",
       "WhatsApp Messenger                                      Everyone   \n",
       "...                                                          ...   \n",
       "eP Finder                                               Everyone   \n",
       "HDWallpaper DK                                              Teen   \n",
       "Bi-Tank Ads Free                                        Everyone   \n",
       "DK Primrose for KLWP                                    Everyone   \n",
       "Apps for SportsB?tting.ag - Bitcoin Welcome here!       Everyone   \n",
       "\n",
       "                                                            Genres  \\\n",
       "App                                                                  \n",
       "Facebook                                                    Social   \n",
       "Facebook                                                    Social   \n",
       "WhatsApp Messenger                                   Communication   \n",
       "WhatsApp Messenger                                   Communication   \n",
       "WhatsApp Messenger                                   Communication   \n",
       "...                                                            ...   \n",
       "eP Finder                                          Auto & Vehicles   \n",
       "HDWallpaper DK                                     Personalization   \n",
       "Bi-Tank Ads Free                                            Arcade   \n",
       "DK Primrose for KLWP                               Personalization   \n",
       "Apps for SportsB?tting.ag - Bitcoin Welcome here!           Sports   \n",
       "\n",
       "                                                  Last Updated  \\\n",
       "App                                                              \n",
       "Facebook                                            03-08-2018   \n",
       "Facebook                                            03-08-2018   \n",
       "WhatsApp Messenger                                  03-08-2018   \n",
       "WhatsApp Messenger                                  03-08-2018   \n",
       "WhatsApp Messenger                                  03-08-2018   \n",
       "...                                                        ...   \n",
       "eP Finder                                           21-06-2018   \n",
       "HDWallpaper DK                                      05-10-2017   \n",
       "Bi-Tank Ads Free                                    31-07-2017   \n",
       "DK Primrose for KLWP                                02-12-2017   \n",
       "Apps for SportsB?tting.ag - Bitcoin Welcome here!   11-12-2017   \n",
       "\n",
       "                                                          Current Ver  \\\n",
       "App                                                                     \n",
       "Facebook                                           Varies with device   \n",
       "Facebook                                           Varies with device   \n",
       "WhatsApp Messenger                                 Varies with device   \n",
       "WhatsApp Messenger                                 Varies with device   \n",
       "WhatsApp Messenger                                 Varies with device   \n",
       "...                                                               ...   \n",
       "eP Finder                                                           1   \n",
       "HDWallpaper DK                                                      1   \n",
       "Bi-Tank Ads Free                                                  1.1   \n",
       "DK Primrose for KLWP                                  v2017.Dec.01.19   \n",
       "Apps for SportsB?tting.ag - Bitcoin Welcome here!                   1   \n",
       "\n",
       "                                                          Android Ver  \n",
       "App                                                                    \n",
       "Facebook                                           Varies with device  \n",
       "Facebook                                           Varies with device  \n",
       "WhatsApp Messenger                                 Varies with device  \n",
       "WhatsApp Messenger                                 Varies with device  \n",
       "WhatsApp Messenger                                 Varies with device  \n",
       "...                                                               ...  \n",
       "eP Finder                                                  4.4 and up  \n",
       "HDWallpaper DK                                             4.0 and up  \n",
       "Bi-Tank Ads Free                                           4.1 and up  \n",
       "DK Primrose for KLWP                                       4.4 and up  \n",
       "Apps for SportsB?tting.ag - Bitcoin Welcome here!          4.0 and up  \n",
       "\n",
       "[10840 rows x 12 columns]"
      ]
     },
     "execution_count": 23,
     "metadata": {},
     "output_type": "execute_result"
    }
   ],
   "source": [
    "\n",
    "app_sort=df.sort_values(by=['Reviews'],ascending=False)\n",
    "app_sort\n",
    "app_sort=app_sort.reset_index(drop=True)\n",
    "app_sort=app_sort.set_index('App')\n",
    "app_sort.drop(\"Life Made WI-Fi Touchscreen Photo Frame\",inplace=True)\n",
    "app_sort\n",
    "# app_sort.to_csv(\"ranked_clean.csv\")\n",
    "# app_sort.drop(\"Life Made WI-Fi Touchscreen Photo Frame\",inplace=True)"
   ]
  },
  {
   "cell_type": "code",
   "execution_count": 48,
   "id": "94cba0af",
   "metadata": {},
   "outputs": [
    {
     "data": {
      "text/html": [
       "<div>\n",
       "<style scoped>\n",
       "    .dataframe tbody tr th:only-of-type {\n",
       "        vertical-align: middle;\n",
       "    }\n",
       "\n",
       "    .dataframe tbody tr th {\n",
       "        vertical-align: top;\n",
       "    }\n",
       "\n",
       "    .dataframe thead th {\n",
       "        text-align: right;\n",
       "    }\n",
       "</style>\n",
       "<table border=\"1\" class=\"dataframe\">\n",
       "  <thead>\n",
       "    <tr style=\"text-align: right;\">\n",
       "      <th></th>\n",
       "      <th>Category</th>\n",
       "      <th>Rating</th>\n",
       "      <th>Reviews</th>\n",
       "      <th>Size</th>\n",
       "      <th>Installs</th>\n",
       "      <th>Type</th>\n",
       "      <th>Price</th>\n",
       "      <th>Content Rating</th>\n",
       "      <th>Genres</th>\n",
       "      <th>Last Updated</th>\n",
       "      <th>Current Ver</th>\n",
       "      <th>Android Ver</th>\n",
       "    </tr>\n",
       "    <tr>\n",
       "      <th>App</th>\n",
       "      <th></th>\n",
       "      <th></th>\n",
       "      <th></th>\n",
       "      <th></th>\n",
       "      <th></th>\n",
       "      <th></th>\n",
       "      <th></th>\n",
       "      <th></th>\n",
       "      <th></th>\n",
       "      <th></th>\n",
       "      <th></th>\n",
       "      <th></th>\n",
       "    </tr>\n",
       "  </thead>\n",
       "  <tbody>\n",
       "  </tbody>\n",
       "</table>\n",
       "</div>"
      ],
      "text/plain": [
       "Empty DataFrame\n",
       "Columns: [Category, Rating, Reviews, Size, Installs, Type, Price, Content Rating, Genres, Last Updated, Current Ver, Android Ver]\n",
       "Index: []"
      ]
     },
     "execution_count": 48,
     "metadata": {},
     "output_type": "execute_result"
    }
   ],
   "source": [
    "app_sort[app_sort['Category'].isna()]"
   ]
  },
  {
   "cell_type": "code",
   "execution_count": 41,
   "id": "e8607cd0",
   "metadata": {},
   "outputs": [
    {
     "data": {
      "text/plain": [
       "array(['SOCIAL', 'COMMUNICATION', 'GAME', 'FAMILY', 'TOOLS',\n",
       "       'VIDEO_PLAYERS', 'SPORTS', 'NEWS_AND_MAGAZINES', 'PHOTOGRAPHY',\n",
       "       'TRAVEL_AND_LOCAL', 'PERSONALIZATION', 'MAPS_AND_NAVIGATION',\n",
       "       'ENTERTAINMENT', 'EDUCATION', 'SHOPPING', 'PRODUCTIVITY',\n",
       "       'HEALTH_AND_FITNESS', 'BOOKS_AND_REFERENCE', 'LIFESTYLE',\n",
       "       'WEATHER', 'FINANCE', 'BUSINESS', 'FOOD_AND_DRINK', 'COMICS',\n",
       "       'PARENTING', 'DATING', 'HOUSE_AND_HOME', 'LIBRARIES_AND_DEMO',\n",
       "       'ART_AND_DESIGN', 'AUTO_AND_VEHICLES', 'MEDICAL', 'BEAUTY',\n",
       "       'EVENTS', '1.9'], dtype=object)"
      ]
     },
     "execution_count": 41,
     "metadata": {},
     "output_type": "execute_result"
    }
   ],
   "source": [
    "app_sort['Category'].unique()\n"
   ]
  },
  {
   "cell_type": "code",
   "execution_count": 16,
   "id": "bca31630",
   "metadata": {},
   "outputs": [],
   "source": [
    "df.to_csv('cleaned_playstore.csv')"
   ]
  },
  {
   "cell_type": "code",
   "execution_count": 19,
   "id": "c65ff512",
   "metadata": {},
   "outputs": [],
   "source": [
    "df1=pd.read_csv('playstore_reviews.csv',index_col='App')"
   ]
  },
  {
   "cell_type": "code",
   "execution_count": 20,
   "id": "838fdb32",
   "metadata": {},
   "outputs": [],
   "source": [
    "df1.drop_duplicates(keep=False,inplace=True)"
   ]
  },
  {
   "cell_type": "code",
   "execution_count": 21,
   "id": "872a79fd",
   "metadata": {},
   "outputs": [
    {
     "name": "stdout",
     "output_type": "stream",
     "text": [
      "<class 'pandas.core.frame.DataFrame'>\n",
      "Index: 22593 entries, 104 找工作 - 找工作 找打工 找兼職 履歷健檢 履歷診療室 to Housing-Real Estate & Property\n",
      "Data columns (total 4 columns):\n",
      " #   Column                  Non-Null Count  Dtype  \n",
      "---  ------                  --------------  -----  \n",
      " 0   Translated_Review       22593 non-null  object \n",
      " 1   Sentiment               22593 non-null  object \n",
      " 2   Sentiment_Polarity      22593 non-null  float64\n",
      " 3   Sentiment_Subjectivity  22593 non-null  float64\n",
      "dtypes: float64(2), object(2)\n",
      "memory usage: 882.5+ KB\n"
     ]
    }
   ],
   "source": [
    "df1.info()"
   ]
  },
  {
   "cell_type": "code",
   "execution_count": 22,
   "id": "54107f6a",
   "metadata": {},
   "outputs": [
    {
     "name": "stdout",
     "output_type": "stream",
     "text": [
      "['Almost mobile phone'\n",
      " 'Very effective, efficient convenient find available jobs. Keep good work power 104 Job Search.'\n",
      " 'Easy intuitive' ...\n",
      " 'Dumb app, I wanted post property rent give option. Website work. Waste time space phone.'\n",
      " 'I property business got link SMS happy performance still guys need raise bar guys Cheers'\n",
      " 'Useless app, I searched flats kondapur, Hyderabad . None number reachable I know flats unavailable would keep posts active']\n"
     ]
    }
   ],
   "source": [
    "print(df1['Translated_Review'].unique())"
   ]
  },
  {
   "cell_type": "code",
   "execution_count": 23,
   "id": "e0c2af56",
   "metadata": {},
   "outputs": [
    {
     "name": "stdout",
     "output_type": "stream",
     "text": [
      "['Neutral' 'Positive' 'Negative']\n"
     ]
    }
   ],
   "source": [
    "print(df1['Sentiment'].unique())"
   ]
  },
  {
   "cell_type": "code",
   "execution_count": 24,
   "id": "6542dea2",
   "metadata": {},
   "outputs": [],
   "source": [
    "df1.to_csv('reviews_cleaned.csv')"
   ]
  },
  {
   "cell_type": "code",
   "execution_count": 24,
   "id": "6c9f47a8",
   "metadata": {},
   "outputs": [],
   "source": [
    "df = df.drop_duplicates(subset=['App'])\n",
    "df\n",
    "df.to_csv('playstore_apps.csv')"
   ]
  },
  {
   "cell_type": "code",
   "execution_count": null,
   "id": "b8815ac6",
   "metadata": {},
   "outputs": [],
   "source": []
  }
 ],
 "metadata": {
  "kernelspec": {
   "display_name": "Python 3 (ipykernel)",
   "language": "python",
   "name": "python3"
  },
  "language_info": {
   "codemirror_mode": {
    "name": "ipython",
    "version": 3
   },
   "file_extension": ".py",
   "mimetype": "text/x-python",
   "name": "python",
   "nbconvert_exporter": "python",
   "pygments_lexer": "ipython3",
   "version": "3.9.12"
  },
  "vscode": {
   "interpreter": {
    "hash": "5c0ef0432168e7d3e765287914c045062c7f7809c0fc28ba75dad6d6d536bf43"
   }
  }
 },
 "nbformat": 4,
 "nbformat_minor": 5
}
